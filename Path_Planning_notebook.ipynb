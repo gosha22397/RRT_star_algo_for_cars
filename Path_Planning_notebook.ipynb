{
  "nbformat": 4,
  "nbformat_minor": 0,
  "metadata": {
    "colab": {
      "name": "Path_Planning_notebook.ipynb",
      "provenance": [],
      "collapsed_sections": []
    },
    "kernelspec": {
      "name": "python3",
      "display_name": "Python 3"
    },
    "language_info": {
      "name": "python"
    }
  },
  "cells": [
    {
      "cell_type": "code",
      "execution_count": null,
      "metadata": {
        "id": "WhO910ERlm6C"
      },
      "outputs": [],
      "source": [
        "%load_ext autoreload\n",
        "%autoreload 2\n",
        "%matplotlib inline\n",
        "from __future__ import division\n",
        "from math import sqrt\n",
        "import yaml\n",
        "import time\n",
        "from shapely.geometry import Point, Polygon, LineString, box\n",
        "from environment import Environment, plot_environment, plot_line, plot_poly\n",
        "from PathPlanner import PathPlanner"
      ]
    },
    {
      "cell_type": "code",
      "source": [
        "def draw_results(algo_name, path, V, E, env, bounds, object_radius, resolution, start_pose, goal_region, elapsed_time):\n",
        "    path_length = 0.0\n",
        "    for i in range(len(path)-1):\n",
        "        path_length += euclidian_dist(path[i], path[i+1])\n",
        "    title = algo_name + \"\\nВершин: \" + str(len(V)) + \" Препятствий: \" + str(len(env.obstacles)) + \" Число рёбер: \" + str(len(path)) + \"\\nДлина пути: \" + str(path_length) + \"\\nВремя работы (с)= \" + str(elapsed_time)\n",
        "    env_plot = plot_environment(env, bounds)\n",
        "    env_plot.set_title(title)\n",
        "    plot_poly(env_plot, goal_region, 'green')\n",
        "    buffered_start_vertex = Point(start_pose).buffer(object_radius, resolution)\n",
        "    plot_poly(env_plot, buffered_start_vertex, 'red')\n",
        "    for edge in E:\n",
        "        line = LineString([edge[0][:2], edge[1][:2]])\n",
        "        plot_line(env_plot, line)\n",
        "    for i in range(len(path)):\n",
        "        path[i] = path[i][:2]\n",
        "    plot_path(env_plot, path, object_radius)\n",
        "\n",
        "def euclidian_dist(point1, point2):\n",
        "    return sqrt((point2[0] - point1[0])**2 + (point2[1] - point1[1])**2)\n",
        "\n",
        "def plot_path(env_plot, path, object_radius):\n",
        "    line = LineString(path)\n",
        "    x, y = line.xy\n",
        "    env_plot.plot(x, y, color='red', linewidth=3, solid_capstyle='round', zorder=1)"
      ],
      "metadata": {
        "id": "l1vHLFedkzsc"
      },
      "execution_count": 11,
      "outputs": []
    },
    {
      "cell_type": "code",
      "source": [
        "def RRT(environment, bounds, start_pose, goal_region, car_radius, steer_distance, num_iterations, curve_type, resolution=3):\n",
        "    start_time = time.time()\n",
        "    a = PathPlanner()\n",
        "    path, V, E = a.path(environment, bounds, start_pose, goal_region, car_radius, steer_distance, num_iterations, curve_type, resolution, RRT_Flavour=\"RRT\")\n",
        "    elapsed_time = time.time() - start_time\n",
        "    if path:\n",
        "        draw_results(\"RRT\", path, V, E, environment, bounds, car_radius, resolution, start_pose, goal_region, elapsed_time)\n",
        "    return path, V, E\n",
        "\n",
        "def RRTStar(environment, bounds, start_pose, goal_region, car_radius, steer_distance, num_iterations, curve_type, resolution=3):\n",
        "    start_time = time.time()\n",
        "    a = PathPlanner()\n",
        "    path, V, E = a.path(environment, bounds, start_pose, goal_region, car_radius, steer_distance, num_iterations, curve_type, resolution, RRT_Flavour=\"RRT*\")\n",
        "    elapsed_time = time.time() - start_time\n",
        "    if path:\n",
        "        draw_results(\"RRT*\", path, V, E, environment, bounds, car_radius, resolution, start_pose, goal_region, elapsed_time)\n",
        "    return path, V, E"
      ],
      "metadata": {
        "id": "B8I9ByZVk1x_"
      },
      "execution_count": 12,
      "outputs": []
    },
    {
      "cell_type": "code",
      "source": [
        "environment = Environment('example.yaml')\n",
        "bounds = (-2, -3, 12, 8)\n",
        "start_pose = (0, 0)\n",
        "goal_region = Polygon([(10,5), (10,6), (11,6), (11,5)])\n",
        "car_radius = 0.3\n",
        "steer_distance = 0.3\n",
        "num_iterations = 10000\n",
        "resolution = 3\n",
        "curve_type = \"steer\"\n",
        "\n",
        "path, V, E = RRT(environment, bounds, start_pose, goal_region, car_radius, steer_distance, num_iterations, curve_type, resolution)\n",
        "path, V, E = RRTStar(environment, bounds, start_pose, goal_region, car_radius, steer_distance, num_iterations, curve_type, resolution)"
      ],
      "metadata": {
        "id": "9sXR6p2bl0Da"
      },
      "execution_count": null,
      "outputs": []
    }
  ]
}