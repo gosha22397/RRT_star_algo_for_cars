{
  "cells": [
    {
      "cell_type": "code",
      "execution_count": 1,
      "metadata": {
        "id": "WhO910ERlm6C"
      },
      "outputs": [],
      "source": [
        "%load_ext autoreload\n",
        "%autoreload 2\n",
        "%matplotlib inline\n",
        "from __future__ import division\n",
        "from math import sqrt\n",
        "import yaml\n",
        "import time\n",
        "from shapely.geometry import Point, Polygon, LineString, box\n",
        "from environment import Environment, plot_environment, plot_line, plot_poly\n",
        "from PathPlanner import PathPlanner"
      ]
    },
    {
      "cell_type": "code",
      "execution_count": 2,
      "metadata": {
        "id": "l1vHLFedkzsc"
      },
      "outputs": [],
      "source": [
        "def draw_results(algo_name, path, V, E, env, bounds, object_radius, resolution, start_pose, goal_region, elapsed_time):\n",
        "    path_length = 0.0\n",
        "    for i in range(len(path)-1):\n",
        "        path_length += euclidian_dist(path[i], path[i+1])\n",
        "    title = algo_name + \"\\nВершин: \" + str(len(V)) + \" Препятствий: \" + str(len(env.obstacles)) + \" Число рёбер: \" + str(len(path)) + \"\\nДлина пути: \" + str(path_length) + \"\\nВремя работы (с)= \" + str(elapsed_time)\n",
        "    env_plot = plot_environment(env, bounds)\n",
        "    env_plot.set_title(title)\n",
        "    plot_poly(env_plot, goal_region, 'green')\n",
        "    buffered_start_vertex = Point(start_pose).buffer(object_radius, resolution)\n",
        "    plot_poly(env_plot, buffered_start_vertex, 'red')\n",
        "    for edge in E:\n",
        "        line = LineString([edge[0][:2], edge[1][:2]])\n",
        "        plot_line(env_plot, line)\n",
        "    if path:\n",
        "        for i in range(len(path)):\n",
        "            path[i] = path[i][:2]\n",
        "        plot_path(env_plot, path, object_radius)\n",
        "\n",
        "def euclidian_dist(point1, point2):\n",
        "    return sqrt((point2[0] - point1[0])**2 + (point2[1] - point1[1])**2)\n",
        "\n",
        "def plot_path(env_plot, path, object_radius):\n",
        "    line = LineString(path)\n",
        "    x, y = line.xy\n",
        "    env_plot.plot(x, y, color='red', linewidth=3, solid_capstyle='round', zorder=1)"
      ]
    },
    {
      "cell_type": "code",
      "execution_count": 3,
      "metadata": {
        "id": "B8I9ByZVk1x_"
      },
      "outputs": [],
      "source": [
        "def RRT(environment, bounds, start_pose, goal_region, car_radius, step_distance, turning_radius, final_prob, num_iterations, curve_type, resolution=3):\n",
        "    start_time = time.time()\n",
        "    a = PathPlanner()\n",
        "    path, V, E = a.path(environment, bounds, start_pose, goal_region, car_radius, step_distance, turning_radius, final_prob, num_iterations, curve_type, resolution, RRT_Flavour=\"RRT\")\n",
        "    elapsed_time = time.time() - start_time\n",
        "    draw_results(\"RRT \" + curve_type, path, V, E, environment, bounds, car_radius, resolution, start_pose, goal_region, elapsed_time)\n",
        "    return path, V, E\n",
        "\n",
        "def RRTStar(environment, bounds, start_pose, goal_region, car_radius, step_distance, turning_radius, final_prob, num_iterations, curve_type, resolution=3):\n",
        "    start_time = time.time()\n",
        "    a = PathPlanner()\n",
        "    path, V, E = a.path(environment, bounds, start_pose, goal_region, car_radius, step_distance, turning_radius, final_prob, num_iterations, curve_type, resolution, RRT_Flavour=\"RRT*\")\n",
        "    elapsed_time = time.time() - start_time\n",
        "    draw_results(\"RRT* \" + curve_type, path, V, E, environment, bounds, car_radius, resolution, start_pose, goal_region, elapsed_time)\n",
        "    return path, V, E"
      ]
    },
    {
      "cell_type": "code",
      "source": [
        "environment = Environment('example_easy.yaml') #import obstacles from .yaml file\n",
        "bounds = (0, 2, 12, 10)   #map borders\n",
        "start_pose = (2, 6)       #starting point coordinates (x, y). If planning in dubin's curve (x, y, angle)\n",
        "goal_region = Polygon([(10,5), (10,6), (11,6), (11,5)]) #Goal Polygon, corner points\n",
        "car_radius = 0.3        #agent size\n",
        "step_distance = 0.5     #step size when plotting a route\n",
        "turning_radius = 1.5    #radius of the dubin's curve (the turning radius of the car)\n",
        "final_prob = 0          #the probability (0..100) that the random point will be from goal_region\n",
        "num_iterations = 3000   #number of iterations\n",
        "curve_type = \"standard\" #standard or dubins\n",
        "\n",
        "path, V, E = RRT(environment, bounds, start_pose, goal_region, car_radius, step_distance, turning_radius, final_prob, num_iterations, curve_type)\n",
        "path, V, E = RRTStar(environment, bounds, start_pose, goal_region, car_radius, step_distance, turning_radius, final_prob, num_iterations, curve_type)"
      ],
      "metadata": {
        "id": "x4a7l_qeIyf7"
      },
      "execution_count": null,
      "outputs": []
    },
    {
      "cell_type": "code",
      "execution_count": null,
      "metadata": {
        "id": "9sXR6p2bl0Da"
      },
      "outputs": [],
      "source": [
        "environment = Environment('example_easy.yaml') #import obstacles from .yaml file\n",
        "bounds = (0, 2, 12, 9)      #map borders\n",
        "start_pose = (2, 6, 180)    #starting point coordinates (x, y). If planning in dubin's curve (x, y, angle)\n",
        "goal_region = Polygon([(10,5), (10,6), (11,6), (11,5)]) #Goal Polygon, corner points\n",
        "car_radius = 0.3       #agent size\n",
        "step_distance = 0.5    #step size when plotting a route\n",
        "turning_radius = 1.5   #radius of the dubin's curve (the turning radius of the car)\n",
        "final_prob = 10        #the probability (0..100) that the random point will be from goal_region\n",
        "num_iterations = 3000  #number of iterations\n",
        "curve_type = \"dubins\"  #standard or dubins\n",
        "\n",
        "path, V, E = RRT(environment, bounds, start_pose, goal_region, car_radius, step_distance, turning_radius, final_prob, num_iterations, curve_type)\n",
        "path, V, E = RRTStar(environment, bounds, start_pose, goal_region, car_radius, step_distance, turning_radius, final_prob, num_iterations, curve_type)"
      ]
    },
    {
      "cell_type": "code",
      "source": [
        "environment = Environment('example_hard.yaml') #import obstacles from .yaml file\n",
        "bounds = (-2, -3, 12, 8)  #map borders\n",
        "start_pose = (0, 0)       #starting point coordinates (x, y). If planning in dubin's curve (x, y, angle)\n",
        "goal_region = Polygon([(10,5), (10,6), (11,6), (11,5)]) #Goal Polygon, corner points\n",
        "car_radius = 0.3        #agent size\n",
        "step_distance = 0.3     #step size when plotting a route\n",
        "turning_radius = 0.5    #radius of the dubin's curve (the turning radius of the car)\n",
        "final_prob = 0          #the probability (0..100) that the random point will be from goal_region\n",
        "num_iterations = 10000  #number of iterations\n",
        "curve_type = \"standard\" #standard or dubins\n",
        "\n",
        "path, V, E = RRT(environment, bounds, start_pose, goal_region, car_radius, step_distance, turning_radius, final_prob, num_iterations, curve_type)\n",
        "path, V, E = RRTStar(environment, bounds, start_pose, goal_region, car_radius, step_distance, turning_radius, final_prob, num_iterations, curve_type)"
      ],
      "metadata": {
        "id": "rbnSdCDb_bKh"
      },
      "execution_count": null,
      "outputs": []
    },
    {
      "cell_type": "code",
      "source": [
        "environment = Environment('example_hard.yaml') #import obstacles from .yaml file\n",
        "bounds = (-2, -3, 12, 8)     #map borders\n",
        "start_pose = (0, 0, 0)       #starting point coordinates (x, y). If planning in dubin's curve (x, y, angle)\n",
        "goal_region = Polygon([(10,5), (10,6), (11,6), (11,5)]) #Goal Polygon, corner points\n",
        "car_radius = 0.3        #agent size\n",
        "step_distance = 0.5     #step size when plotting a route\n",
        "turning_radius = 1.5    #radius of the dubin's curve (the turning radius of the car)\n",
        "final_prob = 0          #the probability (0..100) that the random point will be from goal_region\n",
        "num_iterations = 4000   #number of iterations\n",
        "curve_type = \"dubins\"   #standard or dubins\n",
        "\n",
        "path, V, E = RRT(environment, bounds, start_pose, goal_region, car_radius, step_distance, turning_radius, final_prob, num_iterations, curve_type)\n",
        "path, V, E = RRTStar(environment, bounds, start_pose, goal_region, car_radius, step_distance, turning_radius, final_prob, num_iterations, curve_type)"
      ],
      "metadata": {
        "id": "iKeOFVJQJ8wZ"
      },
      "execution_count": null,
      "outputs": []
    }
  ],
  "metadata": {
    "colab": {
      "collapsed_sections": [],
      "name": "Path_Planning_notebook.ipynb",
      "provenance": []
    },
    "kernelspec": {
      "display_name": "Python 3",
      "name": "python3"
    },
    "language_info": {
      "name": "python"
    }
  },
  "nbformat": 4,
  "nbformat_minor": 0
}